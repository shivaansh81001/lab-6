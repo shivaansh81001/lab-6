{
 "cells": [
  {
   "cell_type": "markdown",
   "metadata": {
    "id": "yckVuHA_lpPM"
   },
   "source": [
    "#Mount Google Drive"
   ]
  },
  {
   "cell_type": "code",
   "execution_count": null,
   "metadata": {
    "id": "jY8CsXfVIsSz"
   },
   "outputs": [],
   "source": [
    "from google.colab import drive\n",
    "drive.mount('/content/drive')"
   ]
  },
  {
   "cell_type": "markdown",
   "metadata": {
    "id": "2ShKVUUdlzvh"
   },
   "source": [
    "# Install Packages"
   ]
  },
  {
   "cell_type": "code",
   "execution_count": null,
   "metadata": {
    "id": "PBoqVVGwNm1k"
   },
   "outputs": [],
   "source": [
    "!python3 -m pip install --upgrade paramparse patchify"
   ]
  },
  {
   "cell_type": "markdown",
   "metadata": {
    "id": "H6SvRu-sAzVK"
   },
   "source": [
    "# Upload A6 Files\n",
    "Upload `A6_main.py`, `A6_utils.py` and `A6_submission.py` to Google Drive and set the path of the corresponding folder here.\n"
   ]
  },
  {
   "cell_type": "code",
   "execution_count": 3,
   "metadata": {
    "executionInfo": {
     "elapsed": 5,
     "status": "ok",
     "timestamp": 1743212885853,
     "user": {
      "displayName": "Max Zang",
      "userId": "06528821384084572029"
     },
     "user_tz": 360
    },
    "id": "dw3vT1EA4YBv"
   },
   "outputs": [],
   "source": [
    "submission_root_dir=\"/content/drive/MyDrive/your-path-to-the-folder\""
   ]
  },
  {
   "cell_type": "markdown",
   "metadata": {
    "id": "BFe3BJYKhtGS"
   },
   "source": [
    "# Show details of parameters"
   ]
  },
  {
   "cell_type": "code",
   "execution_count": null,
   "metadata": {
    "id": "y0iIpn-EhioR"
   },
   "outputs": [],
   "source": [
    "!cd \"$submission_root_dir\" && python3 A6_main.py -h"
   ]
  },
  {
   "cell_type": "markdown",
   "metadata": {
    "id": "4IqODHfhl1j0"
   },
   "source": [
    "# Load tensorboard extension"
   ]
  },
  {
   "cell_type": "code",
   "execution_count": 5,
   "metadata": {
    "executionInfo": {
     "elapsed": 20,
     "status": "ok",
     "timestamp": 1743212918714,
     "user": {
      "displayName": "Max Zang",
      "userId": "06528821384084572029"
     },
     "user_tz": 360
    },
    "id": "vD51-wOCl6mB"
   },
   "outputs": [],
   "source": [
    "%load_ext tensorboard"
   ]
  },
  {
   "cell_type": "markdown",
   "metadata": {
    "id": "egi3yTBNOSFG"
   },
   "source": [
    "# Tensorboard to monitor training progress\n",
    "\n",
    "It needs to be started before the program to run in the background since only one cell can be executed at a time.\n",
    "\n",
    "It can take a few seconds for the tensorboard interface to appear after the cell has been run.\n",
    "\n",
    "Tensorbard can be a bit temperamental so you may have to  click on the refresh buttom on the interface (top right) a few times and / or wait a while after the main program has started to get it working\n",
    "\n",
    "You will also need to enable third party cookies if you get a [403 error](https://github.com/tensorflow/tensorboard/issues/3186).\n",
    "\n",
    "`Scalars` tab shows plots of training and validation metrics\n",
    "\n",
    "`Images` tab shows visualization of classification results on a subset of validation images. Track bar can be used to see how the result improves over epochs.\n"
   ]
  },
  {
   "cell_type": "code",
   "execution_count": null,
   "metadata": {
    "id": "bMPYDomrKKRq"
   },
   "outputs": [],
   "source": [
    "%tensorboard --logdir=\"$submission_root_dir/checkpoints/tb\" --port=8888"
   ]
  },
  {
   "cell_type": "markdown",
   "metadata": {
    "id": "uSDUmYdp8s8X"
   },
   "source": [
    "# Train\n",
    "It will automatically load your checkpoint or start training from the beginning if there is no checkpoints."
   ]
  },
  {
   "cell_type": "code",
   "execution_count": null,
   "metadata": {
    "id": "yjPB6EidE56l"
   },
   "outputs": [],
   "source": [
    "!cd \"$submission_root_dir\" && python3 A6_main.py val.vis=1"
   ]
  },
  {
   "cell_type": "markdown",
   "metadata": {
    "id": "GL0Nc4jSsTLK"
   },
   "source": [
    "# This is how your submission will be evaluated"
   ]
  },
  {
   "cell_type": "code",
   "execution_count": null,
   "metadata": {
    "id": "91C-KQbzsPFN"
   },
   "outputs": [],
   "source": [
    "!cd \"$submission_root_dir\" && python3 A6_main.py ckpt.load=2 test.enable=1"
   ]
  }
 ],
 "metadata": {
  "accelerator": "GPU",
  "colab": {
   "provenance": []
  },
  "kernelspec": {
   "display_name": "Python 3",
   "name": "python3"
  }
 },
 "nbformat": 4,
 "nbformat_minor": 0
}
